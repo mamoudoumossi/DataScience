{
 "cells": [
  {
   "cell_type": "markdown",
   "id": "c65a01b0-9162-44c8-b276-e49aa5bbb7ee",
   "metadata": {},
   "source": [
    "# Outils et écosystéme de la science des données"
   ]
  },
  {
   "cell_type": "markdown",
   "id": "afeed150-a03e-470e-b65d-0cfca484fa8b",
   "metadata": {},
   "source": [
    "Dans ce notebook, les outils et l'écsystéme de la science des données sont résumés"
   ]
  },
  {
   "cell_type": "markdown",
   "id": "666ede23-02f5-44ed-8ab6-afb65fba08d5",
   "metadata": {},
   "source": [
    "Certains des langages populaires que les scientifiques des données utilisent sont:\n",
    "1. Python\n",
    "2. R\n",
    "3. SQL\n",
    "4. Julia"
   ]
  },
  {
   "cell_type": "markdown",
   "id": "0a48ee5e-7109-4c68-93cd-d01402fdbf6a",
   "metadata": {},
   "source": [
    "Certaines des bibliothéques courament utilisées par les scientifiques des données incluent:\n",
    "1. pandas\n",
    "2. NumPy\n",
    "3. Scikit-learn\n",
    "4. TensorFlow"
   ]
  },
  {
   "cell_type": "markdown",
   "id": "0e7e06c1-ba12-40dd-a4af-0899b86d9820",
   "metadata": {},
   "source": [
    "| Outils de la sciences des données |\n",
    "| :-----------------------------------|\n",
    "| Jupyter Notebook       |\n",
    "|  RStudio                |\n",
    "|  VS Code Avec extension python |"
   ]
  },
  {
   "cell_type": "markdown",
   "id": "73e84f98-0d2b-4149-8e2c-dba305871700",
   "metadata": {},
   "source": [
    "### Voici quelques exemples d'évaluation d'expressions arithmetiques en Python"
   ]
  },
  {
   "cell_type": "code",
   "execution_count": 1,
   "id": "2f8cbe3b-4931-4be6-a23b-b8e8ad284ae6",
   "metadata": {},
   "outputs": [
    {
     "data": {
      "text/plain": [
       "17"
      ]
     },
     "execution_count": 1,
     "metadata": {},
     "output_type": "execute_result"
    }
   ],
   "source": [
    "# ceci est une simple expression arithmétique pour multiplier puis additionner des entiers\n",
    "(3*4) + 5"
   ]
  },
  {
   "cell_type": "code",
   "execution_count": 2,
   "id": "4c58a1f8-175b-4d77-a9e8-0d84d0449605",
   "metadata": {},
   "outputs": [
    {
     "data": {
      "text/plain": [
       "3.3333333333333335"
      ]
     },
     "execution_count": 2,
     "metadata": {},
     "output_type": "execute_result"
    }
   ],
   "source": [
    "# cela convertira 200 minites en heures en divisant par 60\n",
    "200/60"
   ]
  },
  {
   "cell_type": "markdown",
   "id": "2870d0a6-e9b0-429a-abf6-13b761084f96",
   "metadata": {},
   "source": [
    "**Objectifs**\n",
    "- Lister les langagues populaires pour la science des données\n",
    "- Présenter les bibliothéques essentielles\n",
    "- Décrire les outils d'environnement de développemlent\n",
    "- Montrer des exemples de calculs en Python"
   ]
  },
  {
   "cell_type": "markdown",
   "id": "779c0038-67ae-410a-a25a-69a7917065d2",
   "metadata": {},
   "source": [
    "## Auteur \n",
    "MAMOUDOU MOSSI Abdoul Nourou"
   ]
  }
 ],
 "metadata": {
  "kernelspec": {
   "display_name": "Python 3 (ipykernel)",
   "language": "python",
   "name": "python3"
  },
  "language_info": {
   "codemirror_mode": {
    "name": "ipython",
    "version": 3
   },
   "file_extension": ".py",
   "mimetype": "text/x-python",
   "name": "python",
   "nbconvert_exporter": "python",
   "pygments_lexer": "ipython3",
   "version": "3.13.5"
  }
 },
 "nbformat": 4,
 "nbformat_minor": 5
}
